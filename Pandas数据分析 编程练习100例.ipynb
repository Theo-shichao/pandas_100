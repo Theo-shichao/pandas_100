{
 "cells": [
  {
   "cell_type": "markdown",
   "metadata": {},
   "source": [
    "## 1、使用List构造Series"
   ]
  },
  {
   "cell_type": "code",
   "execution_count": 3,
   "metadata": {},
   "outputs": [
    {
     "name": "stdout",
     "output_type": "stream",
     "text": [
      "0     语文\n",
      "1     数学\n",
      "2     英语\n",
      "3    计算机\n",
      "dtype: object\n"
     ]
    }
   ],
   "source": [
    "import pandas as pd\n",
    "\n",
    "courses = [\"语文\",\"数学\",\"英语\",\"计算机\"]\n",
    "data = pd.Series(data=courses)\n",
    "\n",
    "print(data)"
   ]
  },
  {
   "cell_type": "markdown",
   "metadata": {},
   "source": [
    "## 2、使用pandas将Dict字典数据，变成一个Series"
   ]
  },
  {
   "cell_type": "code",
   "execution_count": 4,
   "metadata": {},
   "outputs": [
    {
     "name": "stdout",
     "output_type": "stream",
     "text": [
      "语文      80\n",
      "数学      90\n",
      "英语      85\n",
      "计算机    100\n",
      "dtype: int64\n"
     ]
    }
   ],
   "source": [
    "import pandas as pd\n",
    "\n",
    "grades = {\"语文\":80,\"数学\":90,\"英语\":85,\"计算机\":100}\n",
    "data = pd.Series(data=grades)\n",
    "\n",
    "print(data)"
   ]
  },
  {
   "cell_type": "markdown",
   "metadata": {},
   "source": [
    "## 3、将Series转换为List"
   ]
  },
  {
   "cell_type": "code",
   "execution_count": 7,
   "metadata": {},
   "outputs": [
    {
     "name": "stdout",
     "output_type": "stream",
     "text": [
      "[80, 90, 85, 100]\n"
     ]
    }
   ],
   "source": [
    "numbers = data.tolist()\n",
    "print(numbers)"
   ]
  },
  {
   "cell_type": "markdown",
   "metadata": {},
   "source": [
    "## 4、将Series转换成DataFrame"
   ]
  },
  {
   "cell_type": "code",
   "execution_count": 11,
   "metadata": {},
   "outputs": [
    {
     "name": "stdout",
     "output_type": "stream",
     "text": [
      "     grade\n",
      "语文      80\n",
      "数学      90\n",
      "英语      85\n",
      "计算机    100\n"
     ]
    }
   ],
   "source": [
    "import pandas as pd\n",
    "\n",
    "grades = {\"语文\":80,\"数学\":90,\"英语\":85,\"计算机\":100}\n",
    "data = pd.Series(data=grades)\n",
    "\n",
    "df = pd.DataFrame(data,columns=['grade'])\n",
    "print(df)"
   ]
  },
  {
   "cell_type": "markdown",
   "metadata": {},
   "source": [
    "## 5、用Numpy创建Series"
   ]
  },
  {
   "cell_type": "markdown",
   "metadata": {},
   "source": [
    "类型：float，数值10-90，每两个数字间隔10"
   ]
  },
  {
   "cell_type": "code",
   "execution_count": 13,
   "metadata": {},
   "outputs": [
    {
     "name": "stdout",
     "output_type": "stream",
     "text": [
      "101    10.0\n",
      "102    20.0\n",
      "103    30.0\n",
      "104    40.0\n",
      "105    50.0\n",
      "106    60.0\n",
      "107    70.0\n",
      "108    80.0\n",
      "109    90.0\n",
      "dtype: float64\n"
     ]
    }
   ],
   "source": [
    "import numpy as np\n",
    "import pandas as pd\n",
    "\n",
    "s = pd.Series(\n",
    "    np.arange(10, 100, 10),  # 数值：10~90，间隔10\n",
    "    index=np.arange(101, 110, 1),  # 索引：101~109，间隔1\n",
    "    dtype='float'  # 类型：float64\n",
    ")\n",
    "\n",
    "print(s)"
   ]
  },
  {
   "cell_type": "markdown",
   "metadata": {},
   "source": [
    "## 6、转换Series的数据类型"
   ]
  },
  {
   "cell_type": "code",
   "execution_count": 17,
   "metadata": {},
   "outputs": [
    {
     "name": "stdout",
     "output_type": "stream",
     "text": [
      "a    1\n",
      "b    2\n",
      "c    3\n",
      "d    4\n",
      "dtype: int64\n"
     ]
    }
   ],
   "source": [
    "import pandas as pd\n",
    "\n",
    "s = pd.Series(\n",
    "        data=[\"001\",\"002\",\"003\",\"004\"],\n",
    "        index=list('abcd')\n",
    ")\n",
    "# s = s.astype(int) # 方法1\n",
    "s = s.map(int) # 方法2\n",
    "\n",
    "print(s)"
   ]
  },
  {
   "cell_type": "markdown",
   "metadata": {},
   "source": [
    "## 7、给Series添加元素"
   ]
  },
  {
   "cell_type": "code",
   "execution_count": 21,
   "metadata": {},
   "outputs": [
    {
     "name": "stdout",
     "output_type": "stream",
     "text": [
      "语文      80\n",
      "数学      90\n",
      "英语      85\n",
      "计算机    100\n",
      "物理      88\n",
      "化学      95\n",
      "dtype: int64\n"
     ]
    }
   ],
   "source": [
    "import pandas as pd\n",
    "\n",
    "# 构造字典\n",
    "grades = {\"语文\":80,\"数学\":90,\"英语\":85,\"计算机\":100}\n",
    "# 转Series\n",
    "data = pd.Series(data=grades)\n",
    "\n",
    "# 给Series添加元素\n",
    "data = data.append(pd.Series({\n",
    "                                \"物理\":88,\n",
    "                                \"化学\":95\n",
    "                            }))\n",
    "\n",
    "print(data)"
   ]
  },
  {
   "cell_type": "markdown",
   "metadata": {},
   "source": [
    "## 8、Series转换成DataFrame"
   ]
  },
  {
   "cell_type": "markdown",
   "metadata": {},
   "source": [
    "修改列名为course grade"
   ]
  },
  {
   "cell_type": "code",
   "execution_count": 25,
   "metadata": {},
   "outputs": [
    {
     "name": "stdout",
     "output_type": "stream",
     "text": [
      "  course  grade\n",
      "0     语文     80\n",
      "1     数学     90\n",
      "2     英语     85\n",
      "3    计算机    100\n"
     ]
    }
   ],
   "source": [
    "import pandas as pd\n",
    "\n",
    "# 构造字典\n",
    "grades = {\"语文\":80,\"数学\":90,\"英语\":85,\"计算机\":100}\n",
    "# 转Series\n",
    "data = pd.Series(data=grades)\n",
    "\n",
    "# 重新更新索引\n",
    "df = data.reset_index()\n",
    "# 修改列名\n",
    "df.columns = [\"course\",\"grade\"]\n",
    "\n",
    "print(df)"
   ]
  },
  {
   "cell_type": "markdown",
   "metadata": {},
   "source": [
    "## 9、创建一个DataFrame"
   ]
  },
  {
   "cell_type": "code",
   "execution_count": 28,
   "metadata": {},
   "outputs": [
    {
     "name": "stdout",
     "output_type": "stream",
     "text": [
      "   姓名 性别  年龄\n",
      "0  小张  男  18\n",
      "1  小王  女  19\n",
      "2  小李  男  20\n",
      "3  小赵  女  18\n"
     ]
    }
   ],
   "source": [
    "import pandas as pd\n",
    "\n",
    "# 构建一个DataFrame\n",
    "df = pd.DataFrame(\n",
    "    {\n",
    "        \"姓名\":[\"小张\",\"小王\",\"小李\",\"小赵\"],\n",
    "        \"性别\":[\"男\",\"女\",\"男\",\"女\"],\n",
    "        \"年龄\":[18,19,20,18]\n",
    "    }\n",
    ")\n",
    "\n",
    "print(df)"
   ]
  },
  {
   "cell_type": "markdown",
   "metadata": {},
   "source": [
    "## 10、设置DataFrame的索引列"
   ]
  },
  {
   "cell_type": "code",
   "execution_count": 34,
   "metadata": {},
   "outputs": [
    {
     "name": "stdout",
     "output_type": "stream",
     "text": [
      "   性别  年龄\n",
      "姓名       \n",
      "小张  男  18\n",
      "小王  女  19\n",
      "小李  男  20\n",
      "小赵  女  18\n"
     ]
    }
   ],
   "source": [
    "import pandas as pd\n",
    "\n",
    "data = {\n",
    "        \"姓名\":[\"小张\",\"小王\",\"小李\",\"小赵\"],\n",
    "        \"性别\":[\"男\",\"女\",\"男\",\"女\"],\n",
    "        \"年龄\":[18,19,20,18]\n",
    "}\n",
    "# 构建一个DataFrame\n",
    "df = pd.DataFrame(data)\n",
    "# 修改索引\n",
    "df.set_index(\"姓名\", inplace=True)  # 方法1\n",
    "# df = df.set_index(\"姓名\", inplace=False)  # 方法2\n",
    "\n",
    "print(df)"
   ]
  },
  {
   "cell_type": "markdown",
   "metadata": {},
   "source": [
    "## 11、生成一个月份的所有天"
   ]
  },
  {
   "cell_type": "markdown",
   "metadata": {},
   "source": [
    "输出：2021-10一个月的日期列表"
   ]
  },
  {
   "cell_type": "code",
   "execution_count": 37,
   "metadata": {},
   "outputs": [
    {
     "name": "stdout",
     "output_type": "stream",
     "text": [
      "DatetimeIndex(['2021-10-01', '2021-10-02', '2021-10-03', '2021-10-04',\n",
      "               '2021-10-05', '2021-10-06', '2021-10-07', '2021-10-08',\n",
      "               '2021-10-09', '2021-10-10', '2021-10-11', '2021-10-12',\n",
      "               '2021-10-13', '2021-10-14', '2021-10-15', '2021-10-16',\n",
      "               '2021-10-17', '2021-10-18', '2021-10-19', '2021-10-20',\n",
      "               '2021-10-21', '2021-10-22', '2021-10-23', '2021-10-24',\n",
      "               '2021-10-25', '2021-10-26', '2021-10-27', '2021-10-28',\n",
      "               '2021-10-29', '2021-10-30', '2021-10-31'],\n",
      "              dtype='datetime64[ns]', freq='D')\n"
     ]
    }
   ],
   "source": [
    "import pandas as pd\n",
    "\n",
    "# date_range = pd.date_range(start='2021-10-01',end='2021-10-31')  # 方法1\n",
    "date_range = pd.date_range(start='2021-10-01',periods=31)  # 方法2\n",
    "\n",
    "print(date_range)"
   ]
  },
  {
   "cell_type": "markdown",
   "metadata": {},
   "source": [
    "## 12、生成一年的所有周一"
   ]
  },
  {
   "cell_type": "markdown",
   "metadata": {},
   "source": [
    "2021年，所有周一的日期列表"
   ]
  },
  {
   "cell_type": "code",
   "execution_count": 40,
   "metadata": {},
   "outputs": [
    {
     "name": "stdout",
     "output_type": "stream",
     "text": [
      "DatetimeIndex(['2021-01-04', '2021-01-11', '2021-01-18', '2021-01-25',\n",
      "               '2021-02-01', '2021-02-08', '2021-02-15', '2021-02-22',\n",
      "               '2021-03-01', '2021-03-08', '2021-03-15', '2021-03-22',\n",
      "               '2021-03-29', '2021-04-05', '2021-04-12', '2021-04-19',\n",
      "               '2021-04-26', '2021-05-03', '2021-05-10', '2021-05-17',\n",
      "               '2021-05-24', '2021-05-31', '2021-06-07', '2021-06-14',\n",
      "               '2021-06-21', '2021-06-28', '2021-07-05', '2021-07-12',\n",
      "               '2021-07-19', '2021-07-26', '2021-08-02', '2021-08-09',\n",
      "               '2021-08-16', '2021-08-23', '2021-08-30', '2021-09-06',\n",
      "               '2021-09-13', '2021-09-20', '2021-09-27', '2021-10-04',\n",
      "               '2021-10-11', '2021-10-18', '2021-10-25', '2021-11-01',\n",
      "               '2021-11-08', '2021-11-15', '2021-11-22', '2021-11-29',\n",
      "               '2021-12-06', '2021-12-13', '2021-12-20', '2021-12-27'],\n",
      "              dtype='datetime64[ns]', freq='W-MON')\n"
     ]
    }
   ],
   "source": [
    "import pandas as pd\n",
    "\n",
    "date_range = pd.date_range(start=\"2021-01-01\",end=\"2021-12-31\",freq=\"W-MON\")  # 方法1\n",
    "# date_range = pd.date_range(start=\"2021-01-01\",periods=52,freq=\"W-MON\")  # 方法2\n",
    "\n",
    "print(date_range)"
   ]
  },
  {
   "cell_type": "markdown",
   "metadata": {},
   "source": [
    "## 13、生成一天中所有的小时"
   ]
  },
  {
   "cell_type": "markdown",
   "metadata": {},
   "source": [
    "输出：2021-10-01，当天所有的小时时间"
   ]
  },
  {
   "cell_type": "code",
   "execution_count": 46,
   "metadata": {},
   "outputs": [
    {
     "name": "stdout",
     "output_type": "stream",
     "text": [
      "DatetimeIndex(['2021-10-01 00:00:00', '2021-10-01 01:00:00',\n",
      "               '2021-10-01 02:00:00', '2021-10-01 03:00:00',\n",
      "               '2021-10-01 04:00:00', '2021-10-01 05:00:00',\n",
      "               '2021-10-01 06:00:00', '2021-10-01 07:00:00',\n",
      "               '2021-10-01 08:00:00', '2021-10-01 09:00:00',\n",
      "               '2021-10-01 10:00:00', '2021-10-01 11:00:00',\n",
      "               '2021-10-01 12:00:00', '2021-10-01 13:00:00',\n",
      "               '2021-10-01 14:00:00', '2021-10-01 15:00:00',\n",
      "               '2021-10-01 16:00:00', '2021-10-01 17:00:00',\n",
      "               '2021-10-01 18:00:00', '2021-10-01 19:00:00',\n",
      "               '2021-10-01 20:00:00', '2021-10-01 21:00:00',\n",
      "               '2021-10-01 22:00:00', '2021-10-01 23:00:00'],\n",
      "              dtype='datetime64[ns]', freq='H')\n"
     ]
    }
   ],
   "source": [
    "import pandas as pd\n",
    "\n",
    "date_range = pd.date_range(start='2021-10-01',periods=24,freq='H')  # 方法1\n",
    "# date_range = pd.date_range(start='2021-10-01',\n",
    "#                            end='2021-10-02',\n",
    "#                            freq='H',\n",
    "#                            closed='left')  # 方法2\n",
    "\n",
    "print(date_range)"
   ]
  },
  {
   "cell_type": "markdown",
   "metadata": {},
   "source": [
    "## 14、生成日期DataFrame"
   ]
  },
  {
   "cell_type": "markdown",
   "metadata": {},
   "source": [
    "输出：一个DataFrame，包含2021-10月的31天，以及每天是2021年的第几天"
   ]
  },
  {
   "cell_type": "code",
   "execution_count": 48,
   "metadata": {},
   "outputs": [
    {
     "name": "stdout",
     "output_type": "stream",
     "text": [
      "          day  day_of_year\n",
      "0  2021-10-01          274\n",
      "1  2021-10-02          275\n",
      "2  2021-10-03          276\n",
      "3  2021-10-04          277\n",
      "4  2021-10-05          278\n",
      "5  2021-10-06          279\n",
      "6  2021-10-07          280\n",
      "7  2021-10-08          281\n",
      "8  2021-10-09          282\n",
      "9  2021-10-10          283\n",
      "10 2021-10-11          284\n",
      "11 2021-10-12          285\n",
      "12 2021-10-13          286\n",
      "13 2021-10-14          287\n",
      "14 2021-10-15          288\n",
      "15 2021-10-16          289\n",
      "16 2021-10-17          290\n",
      "17 2021-10-18          291\n",
      "18 2021-10-19          292\n",
      "19 2021-10-20          293\n",
      "20 2021-10-21          294\n",
      "21 2021-10-22          295\n",
      "22 2021-10-23          296\n",
      "23 2021-10-24          297\n",
      "24 2021-10-25          298\n",
      "25 2021-10-26          299\n",
      "26 2021-10-27          300\n",
      "27 2021-10-28          301\n",
      "28 2021-10-29          302\n",
      "29 2021-10-30          303\n",
      "30 2021-10-31          304\n"
     ]
    }
   ],
   "source": [
    "import pandas as pd\n",
    "\n",
    "date_range = pd.date_range(start='2021-10-01',periods=31)\n",
    "df = pd.DataFrame(data=date_range, columns=['day'])\n",
    "df['day_of_year'] = df['day'].dt.dayofyear\n",
    "\n",
    "print(df)"
   ]
  },
  {
   "cell_type": "code",
   "execution_count": null,
   "metadata": {},
   "outputs": [],
   "source": []
  }
 ],
 "metadata": {
  "kernelspec": {
   "display_name": "Python 3",
   "language": "python",
   "name": "python3"
  },
  "language_info": {
   "codemirror_mode": {
    "name": "ipython",
    "version": 3
   },
   "file_extension": ".py",
   "mimetype": "text/x-python",
   "name": "python",
   "nbconvert_exporter": "python",
   "pygments_lexer": "ipython3",
   "version": "3.7.1"
  }
 },
 "nbformat": 4,
 "nbformat_minor": 2
}
